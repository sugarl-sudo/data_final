{
 "cells": [
  {
   "cell_type": "code",
   "execution_count": 167,
   "outputs": [],
   "source": [
    "# モジュールのインポート\n",
    "import numpy as np\n",
    "import pandas as pd\n",
    "import matplotlib.pyplot as plt\n",
    "%matplotlib inline\n",
    "\n",
    "from sklearn.model_selection import KFold\n",
    "\n",
    "import catboost as cb\n",
    "from sklearn.model_selection import StratifiedKFold\n",
    "from sklearn.model_selection import train_test_split\n",
    "\n",
    "\n",
    "# data_road\n",
    "train_data = pd.read_csv(\"../data/train.tsv\", delimiter='\\t')\n",
    "test_data = pd.read_csv(\"../data/test.tsv\", delimiter='\\t')\n",
    "x, y = train_data.drop(['LeagueIndex', 'Unnamed: 0', 'GameID'], axis=1), train_data[\"LeagueIndex\"]-1\n",
    "test_x = test_data.drop(['Unnamed: 0', 'GameID'], axis=1)\n",
    "\n",
    "x['a'] = x['TotalHours'] / x['HoursPerWeek']\n",
    "# x.drop(['APM','SelectByHotkeys', 'ActionLatency'], axis=1)\n",
    "test_x['a'] = test_x['TotalHours'] / test_x['HoursPerWeek']"
   ],
   "metadata": {
    "collapsed": false,
    "pycharm": {
     "name": "#%%\n"
    }
   }
  },
  {
   "cell_type": "code",
   "execution_count": 168,
   "outputs": [],
   "source": [
    "test_x = cb.Pool(test_x)"
   ],
   "metadata": {
    "collapsed": false,
    "pycharm": {
     "name": "#%%\n"
    }
   }
  },
  {
   "cell_type": "code",
   "execution_count": 169,
   "outputs": [],
   "source": [
    "def catboost_train(X_train_cv, y_train_cv, X_eval_cv, y_eval_cv, X_test, y_test):\n",
    "    # データを格納する\n",
    "    # 学習用\n",
    "    CatBoost_train = cb.Pool(X_train_cv, label=y_train_cv)\n",
    "    # 検証用\n",
    "    CatBoost_eval = cb.Pool(X_eval_cv, label=y_eval_cv)\n",
    "\n",
    "    # パラメータを設定\n",
    "    params = {\n",
    "        'loss_function': 'MultiClass',    # 多値分類問題\n",
    "        'num_boost_round': 200,          # 学習の回数\n",
    "        'early_stopping_rounds': 10       # アーリーストッピングの回数\n",
    "    }\n",
    "\n",
    "    # 学習\n",
    "    catb = cb.CatBoost(params)\n",
    "    catb.fit(CatBoost_train, eval_set=[CatBoost_eval], verbose=False)\n",
    "\n",
    "    # テストデータで予測\n",
    "    y_pred = catb.predict(X_test, prediction_type='Probability')\n",
    "    y_pred_max = np.argmax(y_pred, axis=1)\n",
    "\n",
    "    # Accuracy の計算\n",
    "    accuracy = sum(y_test == y_pred_max) / len(y_test)\n",
    "    print('CatBoost Accuracy:', accuracy)\n",
    "\n",
    "    return(catb, y_pred_max, accuracy)"
   ],
   "metadata": {
    "collapsed": false,
    "pycharm": {
     "name": "#%%\n"
    }
   }
  },
  {
   "cell_type": "code",
   "execution_count": 170,
   "metadata": {
    "collapsed": true,
    "pycharm": {
     "name": "#%%\n"
    }
   },
   "outputs": [
    {
     "name": "stdout",
     "output_type": "stream",
     "text": [
      "CatBoost Accuracy: 0.4647058823529412\n",
      "CatBoost Accuracy: 0.4294117647058823\n",
      "CatBoost Accuracy: 0.47941176470588237\n",
      "CatBoost Accuracy: 0.4235294117647059\n",
      "CatBoost Accuracy: 0.43529411764705883\n",
      "CatBoost Accuracy: 0.4647058823529412\n",
      "CatBoost Accuracy: 0.4470588235294118\n",
      "CatBoost Accuracy: 0.43823529411764706\n",
      "CatBoost Accuracy: 0.43823529411764706\n",
      "CatBoost Accuracy: 0.4323529411764706\n",
      "CatBoost Accuracy: 0.4588235294117647\n",
      "CatBoost Accuracy: 0.4088235294117647\n",
      "CatBoost Accuracy: 0.4264705882352941\n",
      "CatBoost Accuracy: 0.4647058823529412\n",
      "CatBoost Accuracy: 0.48823529411764705\n",
      "CatBoost Accuracy: 0.47058823529411764\n",
      "CatBoost Accuracy: 0.4323529411764706\n",
      "CatBoost Accuracy: 0.4088235294117647\n",
      "CatBoost Accuracy: 0.4235294117647059\n",
      "CatBoost Accuracy: 0.43823529411764706\n",
      "CatBoost Accuracy: 0.4264705882352941\n",
      "CatBoost Accuracy: 0.4411764705882353\n",
      "CatBoost Accuracy: 0.4294117647058823\n",
      "CatBoost Accuracy: 0.4470588235294118\n",
      "CatBoost Accuracy: 0.4470588235294118\n"
     ]
    }
   ],
   "source": [
    "catb_models = []\n",
    "catb_accuracies = []\n",
    "\n",
    "# 学習のカウンター\n",
    "loop_counts = 1\n",
    "# 学習データとテストデータに分ける\n",
    "X_train, X_test, y_train, y_test = train_test_split(x, y,\n",
    "                                                    test_size=0.2,\n",
    "                                                    random_state=1,\n",
    "                                                    stratify=y)\n",
    "# 各5つのモデルの予測を保存する配列の初期化（5seed*5cv*3モデル）\n",
    "first_preds = np.zeros((len(y_test), 5*5*3))\n",
    "# ５つのシード値で予測\n",
    "for seed_no in range(5):\n",
    "\n",
    "    # 学習データの数だけの数列（0行から最終行まで連番）\n",
    "    row_no_list = list(range(len(y_train)))\n",
    "\n",
    "    # KFoldクラスをインスタンス化（これを使って5分割する）\n",
    "    K_fold = StratifiedKFold(n_splits=5, shuffle=True,  random_state= seed_no)\n",
    "\n",
    "    # KFoldクラスで分割した回数だけ実行（ここでは5回）\n",
    "    for train_cv_no, eval_cv_no in K_fold.split(row_no_list, y_train):\n",
    "        # ilocで取り出す行を指定\n",
    "        X_train_cv = X_train.iloc[train_cv_no, :]\n",
    "        y_train_cv = pd.Series(y_train).iloc[train_cv_no]\n",
    "        X_eval_cv = X_train.iloc[eval_cv_no, :]\n",
    "        y_eval_cv = pd.Series(y_train).iloc[eval_cv_no]\n",
    "\n",
    "        # CatBoostの学習を実行\n",
    "        catb, catb_pred, catb_accuracy = catboost_train(X_train_cv, y_train_cv,\n",
    "                                                        X_eval_cv, y_eval_cv,\n",
    "                                                        X_test, y_test)\n",
    "\n",
    "        # 学習が終わったモデルをリストに入れておく\n",
    "        catb_models.append(catb)\n",
    "\n",
    "        # 学習が終わったモデルの正答率をリストに入れておく\n",
    "        catb_accuracies.append(catb_accuracy)\n",
    "\n",
    "        # 学習が終わったモデルの予測をリストに入れておく\n",
    "        first_preds[:, loop_counts-1] = catb_pred\n",
    "\n",
    "        # 実行回数のカウント\n",
    "        loop_counts += 1"
   ]
  },
  {
   "cell_type": "code",
   "execution_count": 171,
   "outputs": [
    {
     "name": "stdout",
     "output_type": "stream",
     "text": [
      "CatBoost Accuracy:  0.4425882352941176\n",
      "CatBoost std:  0.02020860072475567\n"
     ]
    }
   ],
   "source": [
    "# 単独のモデルでの、テストデータの正答率\n",
    "print('CatBoost Accuracy: ', np.array(catb_accuracies).mean())\n",
    "print('CatBoost std: ', np.array(catb_accuracies).std())"
   ],
   "metadata": {
    "collapsed": false,
    "pycharm": {
     "name": "#%%\n"
    }
   }
  },
  {
   "cell_type": "code",
   "execution_count": 172,
   "outputs": [
    {
     "name": "stdout",
     "output_type": "stream",
     "text": [
      "CatBoost Accuracy:  0.48823529411764705\n"
     ]
    }
   ],
   "source": [
    "# 単独のモデルでの、テストデータの正答率\n",
    "print('CatBoost Accuracy: ', np.array(catb_accuracies).max())"
   ],
   "metadata": {
    "collapsed": false,
    "pycharm": {
     "name": "#%%\n"
    }
   }
  },
  {
   "cell_type": "code",
   "execution_count": 147,
   "outputs": [
    {
     "data": {
      "text/plain": "<Figure size 864x288 with 1 Axes>",
      "image/png": "[encoded data removed]"
     },
     "metadata": {
      "needs_background": "light"
     },
     "output_type": "display_data"
    }
   ],
   "source": [
    "\n",
    "    # 特徴量の重要度を取得する\n",
    "    feature_importance = catb_models[11].get_feature_importance()\n",
    "    # 棒グラフとしてプロットする\n",
    "    plt.figure(figsize=(12, 4))\n",
    "    plt.barh(range(len(feature_importance)),\n",
    "            feature_importance,\n",
    "            tick_label=list(x))\n",
    "\n",
    "    plt.xlabel('importance')\n",
    "    plt.ylabel('features')\n",
    "    plt.grid()\n",
    "    plt.savefig('../result/catb_default_importance')\n",
    "    plt.show()\n"
   ],
   "metadata": {
    "collapsed": false,
    "pycharm": {
     "name": "#%%\n"
    }
   }
  },
  {
   "cell_type": "code",
   "execution_count": 173,
   "outputs": [
    {
     "data": {
      "text/plain": "<catboost.core.Pool at 0x15797c400>"
     },
     "execution_count": 173,
     "metadata": {},
     "output_type": "execute_result"
    }
   ],
   "source": [
    "test_x"
   ],
   "metadata": {
    "collapsed": false,
    "pycharm": {
     "name": "#%%\n"
    }
   }
  },
  {
   "cell_type": "code",
   "execution_count": 175,
   "outputs": [],
   "source": [
    "import csv\n",
    "\n",
    "y_pred = catb_models[14].predict(test_x)\n",
    "y_pred_max = np.argmax(y_pred, axis=1)\n",
    "with open(\"../result/catb_increase_feature.csv\", \"w\") as csv_file:\n",
    "    for pred_low, test_id in zip(y_pred_max, test_data['Unnamed: 0']):\n",
    "        writer = csv.writer(csv_file)\n",
    "        low = [test_id, int(pred_low+1)]\n",
    "        writer.writerow(low)\n",
    "\n",
    "    csv_file.close()"
   ],
   "metadata": {
    "collapsed": false,
    "pycharm": {
     "name": "#%%\n"
    }
   }
  },
  {
   "cell_type": "code",
   "execution_count": null,
   "outputs": [],
   "source": [],
   "metadata": {
    "collapsed": false,
    "pycharm": {
     "name": "#%%\n"
    }
   }
  }
 ],
 "metadata": {
  "kernelspec": {
   "display_name": "Python 3",
   "language": "python",
   "name": "python3"
  },
  "language_info": {
   "codemirror_mode": {
    "name": "ipython",
    "version": 2
   },
   "file_extension": ".py",
   "mimetype": "text/x-python",
   "name": "python",
   "nbconvert_exporter": "python",
   "pygments_lexer": "ipython2",
   "version": "2.7.6"
  }
 },
 "nbformat": 4,
 "nbformat_minor": 0
}