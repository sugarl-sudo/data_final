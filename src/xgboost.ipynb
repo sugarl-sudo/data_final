{
 "cells": [
  {
   "cell_type": "code",
   "execution_count": 2,
   "metadata": {
    "collapsed": true,
    "pycharm": {
     "name": "#%%\n"
    }
   },
   "outputs": [],
   "source": [
    "import xgboost as xgb\n",
    "import pandas as pd"
   ]
  },
  {
   "cell_type": "code",
   "execution_count": 3,
   "outputs": [],
   "source": [
    "train_data = pd.read_csv(\"../data/train.tsv\", delimiter='\\t')\n",
    "test_data = pd.read_csv(\"../data/test.tsv\", delimiter='\\t')"
   ],
   "metadata": {
    "collapsed": false,
    "pycharm": {
     "name": "#%%\n"
    }
   }
  },
  {
   "cell_type": "code",
   "execution_count": 4,
   "outputs": [],
   "source": [
    "train_x, train_y = train_data.iloc[:, 3:21], train_data[\"LeagueIndex\"]-1\n",
    "test_x = test_data.iloc[:, 2:20]"
   ],
   "metadata": {
    "collapsed": false,
    "pycharm": {
     "name": "#%%\n"
    }
   }
  },
  {
   "cell_type": "code",
   "execution_count": 5,
   "outputs": [
    {
     "name": "stderr",
     "output_type": "stream",
     "text": [
      "/Users/sugarl/.conda/envs/data_final/lib/python3.10/site-packages/xgboost/data.py:250: FutureWarning: pandas.Int64Index is deprecated and will be removed from pandas in a future version. Use pandas.Index with the appropriate dtype instead.\n",
      "  elif isinstance(data.columns, (pd.Int64Index, pd.RangeIndex)):\n"
     ]
    }
   ],
   "source": [
    "dtrain = xgb.DMatrix(train_x, label=train_y)test_x = test_data.iloc[:, 2:20]\n",
    "dtest = xgb.DMatrix(test_x)"
   ],
   "metadata": {
    "collapsed": false,
    "pycharm": {
     "name": "#%%\n"
    }
   }
  },
  {
   "cell_type": "code",
   "execution_count": 5,
   "outputs": [],
   "source": [
    "param = {'objective': 'multi:softmax', 'num_class': 8, 'eval_metric': 'mlogloss'}"
   ],
   "metadata": {
    "collapsed": false,
    "pycharm": {
     "name": "#%%\n"
    }
   }
  },
  {
   "cell_type": "code",
   "execution_count": null,
   "outputs": [],
   "source": [
    "bst = xgb.train(param, dtrain)"
   ],
   "metadata": {
    "collapsed": false,
    "pycharm": {
     "name": "#%%\n"
    }
   }
  },
  {
   "cell_type": "code",
   "execution_count": null,
   "outputs": [],
   "source": [
    "pred = bst.predict(dtest) + 1"
   ],
   "metadata": {
    "collapsed": false,
    "pycharm": {
     "name": "#%%\n"
    }
   }
  },
  {
   "cell_type": "code",
   "execution_count": null,
   "outputs": [],
   "source": [
    "from sklearn.metrics import accuracy_score\n",
    "\n",
    "score = accuracy_score(train_y, pred)\n",
    "print('score:{0:.4f}'.format(score))"
   ],
   "metadata": {
    "collapsed": false,
    "pycharm": {
     "name": "#%%\n"
    }
   }
  },
  {
   "cell_type": "code",
   "execution_count": null,
   "outputs": [],
   "source": [
    "import csv\n",
    "\n",
    "y_pred = bst.predict(dtest) + 1\n",
    "\n",
    "with open(\"../result/lightgbm_test.csv\", \"w\") as csv_file:\n",
    "    for pred_low, test_id in zip(y_pred, test_data['Unnamed: 0']):\n",
    "        writer = csv.writer(csv_file)\n",
    "        low = [test_id, int(pred_low+1)]\n",
    "        writer.writerow(low)\n",
    "\n",
    "    csv_file.close()\n"
   ],
   "metadata": {
    "collapsed": false,
    "pycharm": {
     "name": "#%%\n"
    }
   }
  },
  {
   "cell_type": "code",
   "execution_count": null,
   "outputs": [],
   "source": [],
   "metadata": {
    "collapsed": false,
    "pycharm": {
     "name": "#%%\n"
    }
   }
  },
  {
   "cell_type": "code",
   "execution_count": 1,
   "outputs": [],
   "source": [
    "import numpy as np\n",
    "import seaborn as sns\n",
    "df = sns.load_dataset('tips')\n",
    "X = df['total_bill'].values.reshape(-1, 1)\n",
    "y = df['tip'].values"
   ],
   "metadata": {
    "collapsed": false,
    "pycharm": {
     "name": "#%%\n"
    }
   }
  },
  {
   "cell_type": "code",
   "execution_count": 3,
   "outputs": [
    {
     "name": "stdout",
     "output_type": "stream",
     "text": [
      "(244, 1)\n",
      "(244,)\n"
     ]
    }
   ],
   "source": [
    "print(X.shape)\n",
    "print(y.shape)"
   ],
   "metadata": {
    "collapsed": false,
    "pycharm": {
     "name": "#%%\n"
    }
   }
  },
  {
   "cell_type": "code",
   "execution_count": 5,
   "outputs": [
    {
     "data": {
      "text/plain": "array([[16.99],\n       [10.34],\n       [21.01],\n       [23.68],\n       [24.59],\n       [25.29],\n       [ 8.77],\n       [26.88],\n       [15.04],\n       [14.78],\n       [10.27],\n       [35.26],\n       [15.42],\n       [18.43],\n       [14.83],\n       [21.58],\n       [10.33],\n       [16.29],\n       [16.97],\n       [20.65],\n       [17.92],\n       [20.29],\n       [15.77],\n       [39.42],\n       [19.82],\n       [17.81],\n       [13.37],\n       [12.69],\n       [21.7 ],\n       [19.65],\n       [ 9.55],\n       [18.35],\n       [15.06],\n       [20.69],\n       [17.78],\n       [24.06],\n       [16.31],\n       [16.93],\n       [18.69],\n       [31.27],\n       [16.04],\n       [17.46],\n       [13.94],\n       [ 9.68],\n       [30.4 ],\n       [18.29],\n       [22.23],\n       [32.4 ],\n       [28.55],\n       [18.04],\n       [12.54],\n       [10.29],\n       [34.81],\n       [ 9.94],\n       [25.56],\n       [19.49],\n       [38.01],\n       [26.41],\n       [11.24],\n       [48.27],\n       [20.29],\n       [13.81],\n       [11.02],\n       [18.29],\n       [17.59],\n       [20.08],\n       [16.45],\n       [ 3.07],\n       [20.23],\n       [15.01],\n       [12.02],\n       [17.07],\n       [26.86],\n       [25.28],\n       [14.73],\n       [10.51],\n       [17.92],\n       [27.2 ],\n       [22.76],\n       [17.29],\n       [19.44],\n       [16.66],\n       [10.07],\n       [32.68],\n       [15.98],\n       [34.83],\n       [13.03],\n       [18.28],\n       [24.71],\n       [21.16],\n       [28.97],\n       [22.49],\n       [ 5.75],\n       [16.32],\n       [22.75],\n       [40.17],\n       [27.28],\n       [12.03],\n       [21.01],\n       [12.46],\n       [11.35],\n       [15.38],\n       [44.3 ],\n       [22.42],\n       [20.92],\n       [15.36],\n       [20.49],\n       [25.21],\n       [18.24],\n       [14.31],\n       [14.  ],\n       [ 7.25],\n       [38.07],\n       [23.95],\n       [25.71],\n       [17.31],\n       [29.93],\n       [10.65],\n       [12.43],\n       [24.08],\n       [11.69],\n       [13.42],\n       [14.26],\n       [15.95],\n       [12.48],\n       [29.8 ],\n       [ 8.52],\n       [14.52],\n       [11.38],\n       [22.82],\n       [19.08],\n       [20.27],\n       [11.17],\n       [12.26],\n       [18.26],\n       [ 8.51],\n       [10.33],\n       [14.15],\n       [16.  ],\n       [13.16],\n       [17.47],\n       [34.3 ],\n       [41.19],\n       [27.05],\n       [16.43],\n       [ 8.35],\n       [18.64],\n       [11.87],\n       [ 9.78],\n       [ 7.51],\n       [14.07],\n       [13.13],\n       [17.26],\n       [24.55],\n       [19.77],\n       [29.85],\n       [48.17],\n       [25.  ],\n       [13.39],\n       [16.49],\n       [21.5 ],\n       [12.66],\n       [16.21],\n       [13.81],\n       [17.51],\n       [24.52],\n       [20.76],\n       [31.71],\n       [10.59],\n       [10.63],\n       [50.81],\n       [15.81],\n       [ 7.25],\n       [31.85],\n       [16.82],\n       [32.9 ],\n       [17.89],\n       [14.48],\n       [ 9.6 ],\n       [34.63],\n       [34.65],\n       [23.33],\n       [45.35],\n       [23.17],\n       [40.55],\n       [20.69],\n       [20.9 ],\n       [30.46],\n       [18.15],\n       [23.1 ],\n       [15.69],\n       [19.81],\n       [28.44],\n       [15.48],\n       [16.58],\n       [ 7.56],\n       [10.34],\n       [43.11],\n       [13.  ],\n       [13.51],\n       [18.71],\n       [12.74],\n       [13.  ],\n       [16.4 ],\n       [20.53],\n       [16.47],\n       [26.59],\n       [38.73],\n       [24.27],\n       [12.76],\n       [30.06],\n       [25.89],\n       [48.33],\n       [13.27],\n       [28.17],\n       [12.9 ],\n       [28.15],\n       [11.59],\n       [ 7.74],\n       [30.14],\n       [12.16],\n       [13.42],\n       [ 8.58],\n       [15.98],\n       [13.42],\n       [16.27],\n       [10.09],\n       [20.45],\n       [13.28],\n       [22.12],\n       [24.01],\n       [15.69],\n       [11.61],\n       [10.77],\n       [15.53],\n       [10.07],\n       [12.6 ],\n       [32.83],\n       [35.83],\n       [29.03],\n       [27.18],\n       [22.67],\n       [17.82],\n       [18.78]])"
     },
     "execution_count": 5,
     "metadata": {},
     "output_type": "execute_result"
    }
   ],
   "source": [
    "X"
   ],
   "metadata": {
    "collapsed": false,
    "pycharm": {
     "name": "#%%\n"
    }
   }
  },
  {
   "cell_type": "code",
   "execution_count": null,
   "outputs": [],
   "source": [],
   "metadata": {
    "collapsed": false,
    "pycharm": {
     "name": "#%%\n"
    }
   }
  }
 ],
 "metadata": {
  "kernelspec": {
   "display_name": "Python 3",
   "language": "python",
   "name": "python3"
  },
  "language_info": {
   "codemirror_mode": {
    "name": "ipython",
    "version": 2
   },
   "file_extension": ".py",
   "mimetype": "text/x-python",
   "name": "python",
   "nbconvert_exporter": "python",
   "pygments_lexer": "ipython2",
   "version": "2.7.6"
  }
 },
 "nbformat": 4,
 "nbformat_minor": 0
}