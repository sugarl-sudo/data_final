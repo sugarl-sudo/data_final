{
 "cells": [
  {
   "cell_type": "code",
   "execution_count": 2,
   "metadata": {
    "collapsed": true,
    "pycharm": {
     "name": "#%%\n"
    }
   },
   "outputs": [],
   "source": [
    "import xgboost as xgb\n",
    "import pandas as pd"
   ]
  },
  {
   "cell_type": "code",
   "execution_count": 37,
   "outputs": [],
   "source": [
    "train_data = pd.read_csv(\"../data/train.tsv\", delimiter='\\t')\n",
    "test_data = pd.read_csv(\"../data/test.tsv\", delimiter='\\t')"
   ],
   "metadata": {
    "collapsed": false,
    "pycharm": {
     "name": "#%%\n"
    }
   }
  },
  {
   "cell_type": "code",
   "execution_count": 40,
   "outputs": [],
   "source": [
    "train_x, train_y = train_data.iloc[:, 3:21], train_data[\"LeagueIndex\"]-1\n",
    "test_x = test_data.iloc[:, 2:20]"
   ],
   "metadata": {
    "collapsed": false,
    "pycharm": {
     "name": "#%%\n"
    }
   }
  },
  {
   "cell_type": "code",
   "execution_count": 41,
   "outputs": [
    {
     "name": "stderr",
     "output_type": "stream",
     "text": [
      "/Users/sugarl/.conda/envs/data_final/lib/python3.10/site-packages/xgboost/data.py:250: FutureWarning: pandas.Int64Index is deprecated and will be removed from pandas in a future version. Use pandas.Index with the appropriate dtype instead.\n",
      "  elif isinstance(data.columns, (pd.Int64Index, pd.RangeIndex)):\n"
     ]
    }
   ],
   "source": [
    "dtrain = xgb.DMatrix(train_x, label=train_y)\n",
    "dtest = xgb.DMatrix(test_x)"
   ],
   "metadata": {
    "collapsed": false,
    "pycharm": {
     "name": "#%%\n"
    }
   }
  },
  {
   "cell_type": "code",
   "execution_count": 42,
   "outputs": [],
   "source": [
    "param = {'objective': 'multi:softmax', 'num_class': 8, 'eval_metric': 'mlogloss'}"
   ],
   "metadata": {
    "collapsed": false,
    "pycharm": {
     "name": "#%%\n"
    }
   }
  },
  {
   "cell_type": "code",
   "execution_count": 43,
   "outputs": [],
   "source": [
    "bst = xgb.train(param, dtrain, num_boost_round=100)"
   ],
   "metadata": {
    "collapsed": false,
    "pycharm": {
     "name": "#%%\n"
    }
   }
  },
  {
   "cell_type": "code",
   "execution_count": 45,
   "outputs": [],
   "source": [
    "pred = bst.predict(dtest)"
   ],
   "metadata": {
    "collapsed": false,
    "pycharm": {
     "name": "#%%\n"
    }
   }
  },
  {
   "cell_type": "code",
   "execution_count": 36,
   "outputs": [
    {
     "name": "stdout",
     "output_type": "stream",
     "text": [
      "score:1.0000\n"
     ]
    }
   ],
   "source": [
    "from sklearn.metrics import accuracy_score\n",
    "\n",
    "score = accuracy_score(train_y, pred)\n",
    "print('score:{0:.4f}'.format(score))"
   ],
   "metadata": {
    "collapsed": false,
    "pycharm": {
     "name": "#%%\n"
    }
   }
  },
  {
   "cell_type": "code",
   "execution_count": 38,
   "outputs": [
    {
     "data": {
      "text/plain": "   Unnamed: 0  GameID   Age  HoursPerWeek  TotalHours       APM  \\\n0           1    9244  23.0           4.0       600.0   88.5822   \n1           4    6180  18.0           8.0       250.0  122.7948   \n2           6    4998  22.0           2.0       300.0   66.0912   \n3           8     912  23.0          30.0       400.0   97.1082   \n4           9    3734  25.0          10.0       100.0   30.1632   \n\n   SelectByHotkeys  AssignToHotkeys  UniqueHotkeys  MinimapAttacks  ...  \\\n0         0.003338         0.000517       0.000019        0.000009  ...   \n1         0.003504         0.000610       0.000039        0.000000  ...   \n2         0.001413         0.000285       0.000034        0.000034  ...   \n3         0.005010         0.000197       0.000094        0.000000  ...   \n4         0.000427         0.000122       0.000092        0.000000  ...   \n\n   NumberOfPACs  GapBetweenPACs  ActionLatency  ActionsInPAC  \\\n0      0.002718         41.8625        65.7427        5.1115   \n1      0.004606         42.3197        46.4312        4.2326   \n2      0.002553         42.3318        86.9107        4.3884   \n3      0.003068         46.4294        82.5566        4.4098   \n4      0.001526        113.0612       108.7200        3.7000   \n\n   TotalMapExplored  WorkersMade  UniqueUnitsMade  ComplexUnitsMade  \\\n0          0.000140     0.000466         0.000042          0.000131   \n1          0.000242     0.000751         0.000039          0.000125   \n2          0.000274     0.000638         0.000068          0.000000   \n3          0.000178     0.000582         0.000047          0.000000   \n4          0.000275     0.000519         0.000122          0.000000   \n\n   ComplexAbilityUsed  MaxTimeStamp  \n0            0.000303        214528  \n1            0.000078        127864  \n2            0.000000         87728  \n3            0.000000        106588  \n4            0.000030         32764  \n\n[5 rows x 21 columns]",
      "text/html": "<div>\n<style scoped>\n    .dataframe tbody tr th:only-of-type {\n        vertical-align: middle;\n    }\n\n    .dataframe tbody tr th {\n        vertical-align: top;\n    }\n\n    .dataframe thead th {\n        text-align: right;\n    }\n</style>\n<table border=\"1\" class=\"dataframe\">\n  <thead>\n    <tr style=\"text-align: right;\">\n      <th></th>\n      <th>Unnamed: 0</th>\n      <th>GameID</th>\n      <th>Age</th>\n      <th>HoursPerWeek</th>\n      <th>TotalHours</th>\n      <th>APM</th>\n      <th>SelectByHotkeys</th>\n      <th>AssignToHotkeys</th>\n      <th>UniqueHotkeys</th>\n      <th>MinimapAttacks</th>\n      <th>...</th>\n      <th>NumberOfPACs</th>\n      <th>GapBetweenPACs</th>\n      <th>ActionLatency</th>\n      <th>ActionsInPAC</th>\n      <th>TotalMapExplored</th>\n      <th>WorkersMade</th>\n      <th>UniqueUnitsMade</th>\n      <th>ComplexUnitsMade</th>\n      <th>ComplexAbilityUsed</th>\n      <th>MaxTimeStamp</th>\n    </tr>\n  </thead>\n  <tbody>\n    <tr>\n      <th>0</th>\n      <td>1</td>\n      <td>9244</td>\n      <td>23.0</td>\n      <td>4.0</td>\n      <td>600.0</td>\n      <td>88.5822</td>\n      <td>0.003338</td>\n      <td>0.000517</td>\n      <td>0.000019</td>\n      <td>0.000009</td>\n      <td>...</td>\n      <td>0.002718</td>\n      <td>41.8625</td>\n      <td>65.7427</td>\n      <td>5.1115</td>\n      <td>0.000140</td>\n      <td>0.000466</td>\n      <td>0.000042</td>\n      <td>0.000131</td>\n      <td>0.000303</td>\n      <td>214528</td>\n    </tr>\n    <tr>\n      <th>1</th>\n      <td>4</td>\n      <td>6180</td>\n      <td>18.0</td>\n      <td>8.0</td>\n      <td>250.0</td>\n      <td>122.7948</td>\n      <td>0.003504</td>\n      <td>0.000610</td>\n      <td>0.000039</td>\n      <td>0.000000</td>\n      <td>...</td>\n      <td>0.004606</td>\n      <td>42.3197</td>\n      <td>46.4312</td>\n      <td>4.2326</td>\n      <td>0.000242</td>\n      <td>0.000751</td>\n      <td>0.000039</td>\n      <td>0.000125</td>\n      <td>0.000078</td>\n      <td>127864</td>\n    </tr>\n    <tr>\n      <th>2</th>\n      <td>6</td>\n      <td>4998</td>\n      <td>22.0</td>\n      <td>2.0</td>\n      <td>300.0</td>\n      <td>66.0912</td>\n      <td>0.001413</td>\n      <td>0.000285</td>\n      <td>0.000034</td>\n      <td>0.000034</td>\n      <td>...</td>\n      <td>0.002553</td>\n      <td>42.3318</td>\n      <td>86.9107</td>\n      <td>4.3884</td>\n      <td>0.000274</td>\n      <td>0.000638</td>\n      <td>0.000068</td>\n      <td>0.000000</td>\n      <td>0.000000</td>\n      <td>87728</td>\n    </tr>\n    <tr>\n      <th>3</th>\n      <td>8</td>\n      <td>912</td>\n      <td>23.0</td>\n      <td>30.0</td>\n      <td>400.0</td>\n      <td>97.1082</td>\n      <td>0.005010</td>\n      <td>0.000197</td>\n      <td>0.000094</td>\n      <td>0.000000</td>\n      <td>...</td>\n      <td>0.003068</td>\n      <td>46.4294</td>\n      <td>82.5566</td>\n      <td>4.4098</td>\n      <td>0.000178</td>\n      <td>0.000582</td>\n      <td>0.000047</td>\n      <td>0.000000</td>\n      <td>0.000000</td>\n      <td>106588</td>\n    </tr>\n    <tr>\n      <th>4</th>\n      <td>9</td>\n      <td>3734</td>\n      <td>25.0</td>\n      <td>10.0</td>\n      <td>100.0</td>\n      <td>30.1632</td>\n      <td>0.000427</td>\n      <td>0.000122</td>\n      <td>0.000092</td>\n      <td>0.000000</td>\n      <td>...</td>\n      <td>0.001526</td>\n      <td>113.0612</td>\n      <td>108.7200</td>\n      <td>3.7000</td>\n      <td>0.000275</td>\n      <td>0.000519</td>\n      <td>0.000122</td>\n      <td>0.000000</td>\n      <td>0.000030</td>\n      <td>32764</td>\n    </tr>\n  </tbody>\n</table>\n<p>5 rows × 21 columns</p>\n</div>"
     },
     "execution_count": 38,
     "metadata": {},
     "output_type": "execute_result"
    }
   ],
   "source": [
    "test_data.head()"
   ],
   "metadata": {
    "collapsed": false,
    "pycharm": {
     "name": "#%%\n"
    }
   }
  },
  {
   "cell_type": "code",
   "execution_count": 57,
   "outputs": [
    {
     "data": {
      "text/plain": "array([4., 4., 4., ..., 3., 3., 3.], dtype=float32)"
     },
     "execution_count": 57,
     "metadata": {},
     "output_type": "execute_result"
    }
   ],
   "source": [
    "pred+1"
   ],
   "metadata": {
    "collapsed": false,
    "pycharm": {
     "name": "#%%\n"
    }
   }
  },
  {
   "cell_type": "code",
   "execution_count": 59,
   "outputs": [
    {
     "data": {
      "text/plain": "0          1\n1          4\n2          6\n3          8\n4          9\n        ... \n1693    3386\n1694    3387\n1695    3390\n1696    3391\n1697    3393\nName: Unnamed: 0, Length: 1698, dtype: int64"
     },
     "execution_count": 59,
     "metadata": {},
     "output_type": "execute_result"
    }
   ],
   "source": [
    "test_data[\"Unnamed: 0\"]"
   ],
   "metadata": {
    "collapsed": false,
    "pycharm": {
     "name": "#%%\n"
    }
   }
  },
  {
   "cell_type": "code",
   "execution_count": 62,
   "outputs": [
    {
     "name": "stdout",
     "output_type": "stream",
     "text": [
      "1698\n",
      "1698\n"
     ]
    }
   ],
   "source": [
    "print(len(pred))\n",
    "print(len(test_data[\"Unnamed: 0\"]))"
   ],
   "metadata": {
    "collapsed": false,
    "pycharm": {
     "name": "#%%\n"
    }
   }
  },
  {
   "cell_type": "code",
   "execution_count": 68,
   "outputs": [],
   "source": [
    "import csv\n",
    "\n",
    "with open(\"../result/xgboost_test.csv\", \"w\") as csv_file:\n",
    "    for pred_low, test_id in zip(pred, test_data['Unnamed: 0']):\n",
    "        writer = csv.writer(csv_file)\n",
    "        low = [test_id, int(pred_low+1)]\n",
    "        writer.writerow(low)\n",
    "\n",
    "    csv_file.close()\n"
   ],
   "metadata": {
    "collapsed": false,
    "pycharm": {
     "name": "#%%\n"
    }
   }
  },
  {
   "cell_type": "code",
   "execution_count": null,
   "outputs": [],
   "source": [],
   "metadata": {
    "collapsed": false,
    "pycharm": {
     "name": "#%%\n"
    }
   }
  }
 ],
 "metadata": {
  "kernelspec": {
   "display_name": "Python 3",
   "language": "python",
   "name": "python3"
  },
  "language_info": {
   "codemirror_mode": {
    "name": "ipython",
    "version": 2
   },
   "file_extension": ".py",
   "mimetype": "text/x-python",
   "name": "python",
   "nbconvert_exporter": "python",
   "pygments_lexer": "ipython2",
   "version": "2.7.6"
  }
 },
 "nbformat": 4,
 "nbformat_minor": 0
}